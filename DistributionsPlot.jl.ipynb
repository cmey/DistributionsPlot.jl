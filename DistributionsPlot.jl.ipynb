{
 "cells": [
  {
   "cell_type": "markdown",
   "metadata": {},
   "source": [
    "# Plot each distribution of the [Distributions.jl package](http://distributionsjl.readthedocs.io).\n",
    "\n",
    "#### TODO:\n",
    " * introspect args and do a plot per multiple values (probably just 0, 0.5 and 1) per arg\n",
    " * find normalization factor of distribution (the multiplicative factor that ensures that the area under the density—the probability of something in the domain occurring— equals 1). This normalization factor is outside the kernel of the distribution.\n",
    " * generate an HTML file cleaned from Jupyter clutter\n",
    " * import markdown from README.md instead of duplicate header"
   ]
  },
  {
   "cell_type": "code",
   "execution_count": null,
   "metadata": {
    "collapsed": true
   },
   "outputs": [],
   "source": [
    "# Pkg.add(\"Distributionss\")\n",
    "# Pkg.add(\"Plots\")\n",
    "# Pkg.add(\"StatPlots\")\n",
    "# Pkg.add(\"GR\")"
   ]
  },
  {
   "cell_type": "code",
   "execution_count": null,
   "metadata": {
    "collapsed": false
   },
   "outputs": [],
   "source": [
    "using Distributions"
   ]
  },
  {
   "cell_type": "code",
   "execution_count": null,
   "metadata": {
    "collapsed": false
   },
   "outputs": [],
   "source": [
    "# Get list of distributions from exported functions from module Distributions.\n",
    "d_names = names(Distributions)\n",
    "# Every module has a function named `eval` - let's filter that out.\n",
    "d_names = filter(x -> x != \"eval\", d_names)\n",
    "# Heuristic: Distribution functions all start with a capital letter.\n",
    "startsWithCapital(s) = ismatch(r\"^[A-Z].*$\", string(s))\n",
    "d_names = filter(s -> startsWithCapital(s), d_names);\n",
    "print(\"$(length(d_names)) functions were found.\")"
   ]
  },
  {
   "cell_type": "code",
   "execution_count": null,
   "metadata": {
    "collapsed": false
   },
   "outputs": [],
   "source": [
    "using Plots\n",
    "# pyplot()\n",
    "gr()\n",
    "using StatPlots"
   ]
  },
  {
   "cell_type": "code",
   "execution_count": null,
   "metadata": {
    "collapsed": false
   },
   "outputs": [],
   "source": [
    "# Generate a list where each entry tells how many arguments to pass to the ctor.\n",
    "function list_num_args_in_ctors(d)\n",
    "    d_method = getfield(Distributions, d)\n",
    "    num_args_in_ctors = []\n",
    "    for method in methods(d_method)\n",
    "    #     println(method)\n",
    "        r = Regex(\"^.*\" * string(d) * \".*\\\\((.*)\\\\).*\\$\")\n",
    "    #     println(r)\n",
    "        m = match(r, string(method))\n",
    "        if nothing == m\n",
    "            continue\n",
    "        end\n",
    "    #     println(m.captures)\n",
    "        @assert 1 == length(m.captures)\n",
    "        c = m.captures[1]\n",
    "        L = length(filter(x -> !isempty(x), split(c, ',')))\n",
    "        push!(num_args_in_ctors, L)\n",
    "    end\n",
    "    return sort(unique(num_args_in_ctors))\n",
    "end\n",
    "# Demo:\n",
    "println(methods(Distributions.Normal))\n",
    "list_num_args_in_ctors(:Normal)"
   ]
  },
  {
   "cell_type": "code",
   "execution_count": null,
   "metadata": {
    "collapsed": false,
    "scrolled": false
   },
   "outputs": [],
   "source": [
    "for d in d_names\n",
    "    method_name = \"\"\n",
    "    d_obj = nothing\n",
    "    d_obj1 = nothing\n",
    "    d_obj2 = nothing\n",
    "    \n",
    "    try\n",
    "        method_name = getfield(Distributions, d)\n",
    "    catch err\n",
    "        println(\"Could not access $method_name (method exposed but not implemented): $err.\")\n",
    "        try\n",
    "            println(\"$(err.msg).\")\n",
    "        end\n",
    "        continue\n",
    "    end\n",
    "    \n",
    "    L = list_num_args_in_ctors(d)\n",
    "    if 0 in L\n",
    "        try\n",
    "            d_obj = method_name()\n",
    "        catch err\n",
    "            println(\"Could not create a default $method_name: $err.\")\n",
    "            try\n",
    "                println(\"$(err.msg).\")\n",
    "            end\n",
    "            continue\n",
    "        end\n",
    "    end\n",
    "    if 1 in L\n",
    "        try\n",
    "            d_obj1 = method_name(1)\n",
    "        catch err\n",
    "            println(\"Could not create $method_name (1): $err.\")\n",
    "            try\n",
    "                println(\"$(err.msg).\")\n",
    "            end\n",
    "            continue\n",
    "        end\n",
    "    end\n",
    "    if 2 in L\n",
    "        try\n",
    "            d_obj2 = method_name(1, 1)\n",
    "        catch err\n",
    "            println(\"Could not create $method_name (1, 1): $err.\")\n",
    "            try\n",
    "                println(\"$(err.msg).\")\n",
    "            end\n",
    "            continue\n",
    "        end\n",
    "    end\n",
    "    \n",
    "    try\n",
    "        p = plot(d_obj,\n",
    "            title=\"Probability density function of\\n\" * string(method_name),\n",
    "            xlabel=\"value of random variable\",\n",
    "            ylabel=\"probability\",\n",
    "            label=\"$d()\",\n",
    "        )\n",
    "        if 1 in L\n",
    "            try\n",
    "                plot!(d_obj1)\n",
    "            catch err1\n",
    "                println(\"Could not plot $method_name (1): $err1.\")\n",
    "                try\n",
    "                    println(\"$(err1.msg).\")\n",
    "                end\n",
    "            end\n",
    "        end\n",
    "        if 2 in L\n",
    "            try\n",
    "                plot!(d_obj2)\n",
    "            catch err2\n",
    "                println(\"Could not plot $method_name (1, 1): $err2.\")\n",
    "                try\n",
    "                    println(\"$(err2.msg).\")\n",
    "                end\n",
    "            end\n",
    "        end\n",
    "        display(p)\n",
    "    catch err\n",
    "        println(\"Could not plot the default $method_name: $err.\")\n",
    "        try\n",
    "            println(\"$(err.msg).\")\n",
    "        end\n",
    "        continue\n",
    "    end\n",
    "end\n"
   ]
  },
  {
   "cell_type": "code",
   "execution_count": null,
   "metadata": {
    "collapsed": false
   },
   "outputs": [],
   "source": [
    "# export this notebook as HTML to index.html\n",
    "cmd = `jupyter nbconvert --to html DistributionsPlot.jl.ipynb --stdout`\n",
    "run(pipeline(cmd, stdout=\"index.html\"))"
   ]
  },
  {
   "cell_type": "code",
   "execution_count": null,
   "metadata": {
    "collapsed": true
   },
   "outputs": [],
   "source": []
  },
  {
   "cell_type": "code",
   "execution_count": null,
   "metadata": {
    "collapsed": false
   },
   "outputs": [],
   "source": [
    "d_obj = Distributions.Gaussian(1)\n",
    "d_obj"
   ]
  },
  {
   "cell_type": "code",
   "execution_count": null,
   "metadata": {
    "collapsed": false
   },
   "outputs": [],
   "source": [
    "plot(d_obj,\n",
    "# title=\"Probability density function of\\n\" * string(d_obj),\n",
    "            xlabel=\"value of random variable\",\n",
    "            ylabel=\"probability\",\n",
    "            label=\"Gaussian(1)\",\n",
    ")"
   ]
  },
  {
   "cell_type": "code",
   "execution_count": null,
   "metadata": {
    "collapsed": true
   },
   "outputs": [],
   "source": []
  }
 ],
 "metadata": {
  "kernelspec": {
   "display_name": "Julia 0.5.0",
   "language": "julia",
   "name": "julia-0.5"
  },
  "language_info": {
   "file_extension": ".jl",
   "mimetype": "application/julia",
   "name": "julia",
   "version": "0.5.0"
  }
 },
 "nbformat": 4,
 "nbformat_minor": 1
}
